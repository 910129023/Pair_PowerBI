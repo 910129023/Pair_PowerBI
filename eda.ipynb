{
 "cells": [
  {
   "cell_type": "code",
   "execution_count": 2,
   "metadata": {},
   "outputs": [],
   "source": [
    "# Libraries \n",
    "# -----------------------------------------------------------------------\n",
    "import pandas as pd\n",
    "import numpy as np\n",
    "import warnings\n",
    "import sys\n",
    "import os\n",
    "\n",
    "# Configuration\n",
    "# -----------------------------------------------------------------------\n",
    "pd.set_option('display.max_columns', None)\n",
    "pd.set_option('display.max_colwidth', None)\n",
    "# pd.set_option('display.max_rows', None)\n",
    "warnings.filterwarnings(\"ignore\")\n",
    "\n",
    "\n",
    "import matplotlib.pyplot as plt\n",
    "import seaborn as sns"
   ]
  },
  {
   "cell_type": "code",
   "execution_count": 10,
   "metadata": {},
   "outputs": [],
   "source": [
    "data_red = pd.read_csv(\"red.csv\", index_col=0)\n",
    "data_rose = pd.read_csv(\"Rose.csv\", index_col=0)\n",
    "data_sparkling = pd.read_csv(\"Sparkling.csv\", index_col=0)\n",
    "data_white = pd.read_csv(\"White.csv\", index_col=0)"
   ]
  },
  {
   "cell_type": "code",
   "execution_count": 4,
   "metadata": {},
   "outputs": [
    {
     "data": {
      "text/plain": [
       "Country            0\n",
       "Region             0\n",
       "Winery             0\n",
       "Rating             0\n",
       "NumberOfRatings    0\n",
       "Price              0\n",
       "Year               0\n",
       "dtype: int64"
      ]
     },
     "execution_count": 4,
     "metadata": {},
     "output_type": "execute_result"
    }
   ],
   "source": [
    "data_red.isnull().sum()"
   ]
  },
  {
   "cell_type": "code",
   "execution_count": 11,
   "metadata": {},
   "outputs": [
    {
     "data": {
      "text/plain": [
       "Country            0\n",
       "Region             0\n",
       "Winery             0\n",
       "Rating             0\n",
       "NumberOfRatings    0\n",
       "Price              0\n",
       "Year               0\n",
       "dtype: int64"
      ]
     },
     "execution_count": 11,
     "metadata": {},
     "output_type": "execute_result"
    }
   ],
   "source": [
    "data_rose.isnull().sum()"
   ]
  },
  {
   "cell_type": "code",
   "execution_count": 12,
   "metadata": {},
   "outputs": [
    {
     "data": {
      "text/plain": [
       "Country            0\n",
       "Region             0\n",
       "Winery             0\n",
       "Rating             0\n",
       "NumberOfRatings    0\n",
       "Price              0\n",
       "Year               0\n",
       "dtype: int64"
      ]
     },
     "execution_count": 12,
     "metadata": {},
     "output_type": "execute_result"
    }
   ],
   "source": [
    "data_sparkling.isnull().sum()"
   ]
  },
  {
   "cell_type": "code",
   "execution_count": 13,
   "metadata": {},
   "outputs": [
    {
     "data": {
      "text/plain": [
       "Country            0\n",
       "Region             0\n",
       "Winery             0\n",
       "Rating             0\n",
       "NumberOfRatings    0\n",
       "Price              0\n",
       "Year               0\n",
       "dtype: int64"
      ]
     },
     "execution_count": 13,
     "metadata": {},
     "output_type": "execute_result"
    }
   ],
   "source": [
    "data_white.isnull().sum()"
   ]
  },
  {
   "cell_type": "code",
   "execution_count": 5,
   "metadata": {},
   "outputs": [
    {
     "data": {
      "text/plain": [
       "0"
      ]
     },
     "execution_count": 5,
     "metadata": {},
     "output_type": "execute_result"
    }
   ],
   "source": [
    "data_red.duplicated().sum()"
   ]
  },
  {
   "cell_type": "code",
   "execution_count": 14,
   "metadata": {},
   "outputs": [
    {
     "data": {
      "text/plain": [
       "0"
      ]
     },
     "execution_count": 14,
     "metadata": {},
     "output_type": "execute_result"
    }
   ],
   "source": [
    "data_rose.duplicated().sum()"
   ]
  },
  {
   "cell_type": "code",
   "execution_count": 15,
   "metadata": {},
   "outputs": [
    {
     "data": {
      "text/plain": [
       "0"
      ]
     },
     "execution_count": 15,
     "metadata": {},
     "output_type": "execute_result"
    }
   ],
   "source": [
    "data_sparkling.duplicated().sum()"
   ]
  },
  {
   "cell_type": "code",
   "execution_count": 16,
   "metadata": {},
   "outputs": [
    {
     "data": {
      "text/plain": [
       "0"
      ]
     },
     "execution_count": 16,
     "metadata": {},
     "output_type": "execute_result"
    }
   ],
   "source": [
    "data_white.duplicated().sum()"
   ]
  },
  {
   "cell_type": "code",
   "execution_count": 6,
   "metadata": {},
   "outputs": [
    {
     "name": "stdout",
     "output_type": "stream",
     "text": [
      "<class 'pandas.core.frame.DataFrame'>\n",
      "Index: 8666 entries, Pomerol 2011 to Portillo Cabernet Sauvignon 2016\n",
      "Data columns (total 7 columns):\n",
      " #   Column           Non-Null Count  Dtype  \n",
      "---  ------           --------------  -----  \n",
      " 0   Country          8666 non-null   object \n",
      " 1   Region           8666 non-null   object \n",
      " 2   Winery           8666 non-null   object \n",
      " 3   Rating           8666 non-null   float64\n",
      " 4   NumberOfRatings  8666 non-null   int64  \n",
      " 5   Price            8666 non-null   float64\n",
      " 6   Year             8666 non-null   object \n",
      "dtypes: float64(2), int64(1), object(4)\n",
      "memory usage: 541.6+ KB\n"
     ]
    }
   ],
   "source": [
    "data_red.info()"
   ]
  },
  {
   "cell_type": "code",
   "execution_count": 17,
   "metadata": {},
   "outputs": [
    {
     "name": "stdout",
     "output_type": "stream",
     "text": [
      "<class 'pandas.core.frame.DataFrame'>\n",
      "Index: 397 entries, Mad Méditerranée Rosé 2019 to The Original Rosé N.V.\n",
      "Data columns (total 7 columns):\n",
      " #   Column           Non-Null Count  Dtype  \n",
      "---  ------           --------------  -----  \n",
      " 0   Country          397 non-null    object \n",
      " 1   Region           397 non-null    object \n",
      " 2   Winery           397 non-null    object \n",
      " 3   Rating           397 non-null    float64\n",
      " 4   NumberOfRatings  397 non-null    int64  \n",
      " 5   Price            397 non-null    float64\n",
      " 6   Year             397 non-null    object \n",
      "dtypes: float64(2), int64(1), object(4)\n",
      "memory usage: 24.8+ KB\n"
     ]
    }
   ],
   "source": [
    "data_rose.info()"
   ]
  },
  {
   "cell_type": "code",
   "execution_count": 18,
   "metadata": {},
   "outputs": [
    {
     "name": "stdout",
     "output_type": "stream",
     "text": [
      "<class 'pandas.core.frame.DataFrame'>\n",
      "Index: 1007 entries, Crémant de Loire Brut 2017 to Brut Champagne N.V.\n",
      "Data columns (total 7 columns):\n",
      " #   Column           Non-Null Count  Dtype  \n",
      "---  ------           --------------  -----  \n",
      " 0   Country          1007 non-null   object \n",
      " 1   Region           1007 non-null   object \n",
      " 2   Winery           1007 non-null   object \n",
      " 3   Rating           1007 non-null   float64\n",
      " 4   NumberOfRatings  1007 non-null   int64  \n",
      " 5   Price            1007 non-null   float64\n",
      " 6   Year             1007 non-null   object \n",
      "dtypes: float64(2), int64(1), object(4)\n",
      "memory usage: 62.9+ KB\n"
     ]
    }
   ],
   "source": [
    "data_sparkling.info()"
   ]
  },
  {
   "cell_type": "code",
   "execution_count": 19,
   "metadata": {},
   "outputs": [
    {
     "name": "stdout",
     "output_type": "stream",
     "text": [
      "<class 'pandas.core.frame.DataFrame'>\n",
      "Index: 3764 entries, Vermentino 2017 to Vinho Verde Branco N.V.\n",
      "Data columns (total 7 columns):\n",
      " #   Column           Non-Null Count  Dtype  \n",
      "---  ------           --------------  -----  \n",
      " 0   Country          3764 non-null   object \n",
      " 1   Region           3764 non-null   object \n",
      " 2   Winery           3764 non-null   object \n",
      " 3   Rating           3764 non-null   float64\n",
      " 4   NumberOfRatings  3764 non-null   int64  \n",
      " 5   Price            3764 non-null   float64\n",
      " 6   Year             3764 non-null   object \n",
      "dtypes: float64(2), int64(1), object(4)\n",
      "memory usage: 235.2+ KB\n"
     ]
    }
   ],
   "source": [
    "data_white.info()"
   ]
  },
  {
   "cell_type": "code",
   "execution_count": 22,
   "metadata": {},
   "outputs": [
    {
     "name": "stdout",
     "output_type": "stream",
     "text": [
      "Las columnas del DataFrame de variables categóricas son ['Country', 'Region', 'Winery', 'Rating', 'NumberOfRatings', 'Price', 'Year']\n",
      "--------------------------------------------------------------------------------\n",
      "Los valores únicos de Country son: ['Italy' 'Austria' 'Germany' 'France' 'Spain' 'Hungary' 'Australia'\n",
      " 'Luxembourg' 'South Africa' 'Chile' 'Portugal' 'New Zealand'\n",
      " 'United States' 'Romania' 'Slovenia' 'Argentina' 'Brazil' 'Switzerland'\n",
      " 'Croatia' 'China' 'Greece' 'Israel' 'Turkey' 'Georgia' 'Czech Republic'\n",
      " 'Slovakia' 'Canada' 'Lebanon' 'Moldova' 'Uruguay']\n",
      "\n",
      "Las frecuencias de los valores únicos de la columna: Country\n",
      "Germany           888\n",
      "Italy             792\n",
      "France            653\n",
      "South Africa      296\n",
      "Spain             256\n",
      "Austria           243\n",
      "United States     135\n",
      "Chile              99\n",
      "New Zealand        94\n",
      "Portugal           89\n",
      "Australia          67\n",
      "Argentina          56\n",
      "Romania            12\n",
      "Switzerland        11\n",
      "Greece             10\n",
      "Hungary            10\n",
      "Slovenia            9\n",
      "Israel              8\n",
      "Georgia             8\n",
      "Brazil              6\n",
      "Luxembourg          5\n",
      "Croatia             4\n",
      "Moldova             3\n",
      "China               2\n",
      "Turkey              2\n",
      "Czech Republic      2\n",
      "Slovakia            1\n",
      "Canada              1\n",
      "Lebanon             1\n",
      "Uruguay             1\n",
      "Name: count, dtype: int64 \n",
      "------------------------------------------------------------------------------------------------\n",
      "Los valores únicos de Region son: ['Toscana' 'Colli Orientali del Friuli' 'Südburgenland' 'Rheinhessen'\n",
      " 'Terre Siciliane' 'Pfalz' 'Nahe' 'Terre di Chieti' 'Veneto' 'Alsace'\n",
      " 'Umbria' 'Wiltingen' 'Südtirol - Alto Adige' 'Castilla' 'Rheingau'\n",
      " 'Mâcon-Prissé' 'Sopron' 'Ahr' 'German Wine' 'Barossa' 'La Mancha'\n",
      " 'Luxembourg' 'Muscadet-Sevre et Maine' 'Mosel' 'Wagram'\n",
      " 'Teroldego Rotaliano' 'Baden' 'Robertson' 'Rías Baixas'\n",
      " 'Pouilly-Vinzelles' 'Maipo Valley' \"Pays d'Oc\" 'Campania' 'Eden Valley'\n",
      " 'Marche' 'Sicilia' 'Meursault' 'Tolna' 'Soave Classico'\n",
      " \"Chablis 1er Cru 'Vaillons'\" 'Minho' 'Südsteiermark' 'Kamptal'\n",
      " 'Vernaccia di San Gimignano' 'Johannisberg' 'Luberon' 'Vin de France'\n",
      " 'Châteauneuf-du-Pape' 'Western Cape' 'Sancerre' 'Priorat' 'Franken'\n",
      " 'Saumur' 'Rioja' 'South Australia' 'Côtes Catalanes' 'Wachau' 'Bandol'\n",
      " 'Mitterberg' 'Lugana' \"Trebbiano d'Abruzzo\" 'Langhe' 'Pessac-Léognan'\n",
      " 'Bergland' 'Marlborough' 'Cape Point' 'Burgenland' 'Bordeaux Sec'\n",
      " 'Vigneti delle Dolomiti' 'Monterey' 'Sta. Rita Hills' 'Navarra'\n",
      " 'Bourgogne' 'Dealu Mare' 'Graach' 'Venezia Giulia' 'Trentino'\n",
      " 'Bourgogne Hautes-Côtes de Beaune' 'Dão' 'Stellenbosch'\n",
      " 'Vermentino di Gallura' 'Mittelburgenland' 'Vinho Verde' 'delle Venezie'\n",
      " 'Saale-Unstrut' 'Irpinia' 'Lisboa' 'Kremstal'\n",
      " 'Verdicchio dei Castelli di Jesi' 'Chinon' 'California' 'Colli di Luni'\n",
      " \"Alsace Grand Cru 'Geisberg'\" 'Durbanville' 'Weinviertel' 'Condrieu'\n",
      " 'Garda' 'Bourgogne Aligoté' 'Limoux' 'Bordeaux' 'North Coast'\n",
      " \"Meursault 1er Cru 'Genevrières'\" 'Gisborne' 'Côtes-du-Rhône' 'Paarl'\n",
      " 'Balaton' \"Coteaux-d'Ensérune\" 'Friuli Grave' 'Piesport' 'Yecla'\n",
      " 'Cape Town' 'Escherndorf' 'Nierstein' 'Rueda' 'Loire Valley' 'Štajerska'\n",
      " 'Verdicchio di Matelica' 'Pouilly-Fuissé' 'Salento' 'Swartland' 'Douro'\n",
      " 'Steiermark' 'Riverina' \"Beaune 1er Cru 'Les Grèves'\" 'Côtes de Provence'\n",
      " 'Pla de Bages' 'Mendoza' 'Pacherenc du Vic-Bilh Sec' 'Languedoc'\n",
      " 'Tupungato' \"Saint-Aubin 1er Cru 'Le Charmois'\" 'Pomino' 'Itata Valley'\n",
      " 'Elgin' 'Serra Gaúcha' 'Hermitage' 'Colli Martani' 'Côtes du Roussillon'\n",
      " 'Basilicata' 'Meursault Premier Cru' 'Colli Tortonesi' 'McGregor'\n",
      " 'Mittelrhein' 'Maremma Toscana' 'Podravje' 'Alentejano' 'Provence'\n",
      " 'Côtes de Gascogne' 'Chablis' 'Central Valley' 'Touraine'\n",
      " 'Castilla y León' 'Villány' 'Petit Chablis' 'Soave' 'Trentino-Alto Adige'\n",
      " 'Rully' 'Coastal Region' 'Friuli Isonzo' 'Niederösterreich'\n",
      " 'Anderson Valley' 'Carnuntum' 'Chassagne-Montrachet' 'Penedès'\n",
      " 'Traisental' \"Meursault 1er Cru 'Blagny'\" 'Roero' 'Friuli-Venezia Giulia'\n",
      " 'Gascogne' 'Binissalem-Mallorca' 'Valais' 'Cirò' 'Vin de Pays'\n",
      " 'Los Carneros' 'Bâtard-Montrachet Grand Cru' 'Alsace Grand Cru'\n",
      " 'Pouilly-Fumé' 'Walker Bay' 'Abona' 'Overberg' 'Picpoul de Pinet' 'Wien'\n",
      " 'Alcamo' 'Puglia' 'Vin de Corse' 'Montrachet Grand Cru' 'Graves'\n",
      " 'Dalmatian Coast' 'Fiano de Avellino' 'Gavi' 'Wiener Gemischter Satz'\n",
      " 'Chassagne-Montrachet Premier Cru' 'Collio'\n",
      " \"Alsace Grand Cru 'Engelberg'\" 'McLaren Vale'\n",
      " \"Alsace Grand Cru 'Schlossberg'\" 'Mercurey' 'Limarí Valley'\n",
      " \"Rully 1er Cru 'Rabourcé'\" 'Viré-Clessé' 'Brauneberg' 'Mallorca'\n",
      " 'Côtes de Thongue' \"Chassagne-Montrachet 1er Cru 'Les Chaumes'\"\n",
      " 'Curtefranca' 'Isola dei Nuraghi' \"Meursault 1er Cru 'Charmes'\"\n",
      " 'Greco di Tufo' 'Languedoc-Roussillon' 'Muscadet-Côtes de Grandlieu'\n",
      " 'Bianco di Custoza' 'Somontano' 'Tejo'\n",
      " \"Chassagne-Montrachet 1er Cru 'Morgeot'\" 'Côtes de Grevenmacher'\n",
      " 'Corton-Charlemagne Grand Cru' 'Ningxia' 'Abruzzo' \"Valle d'Aosta\"\n",
      " 'Vrancea' 'Beaune Premier Cru' 'Transylvania' 'Casablanca Valley'\n",
      " 'Aconcagua Costa' 'Ockfen' 'Washington' 'Markopoulo' 'Clare Valley'\n",
      " 'Etna' 'Est! Est!! Est!!! di Montefiascone' 'Hunter Valley' 'Jumilla'\n",
      " 'Galilee' 'Langhorne Creek' 'Saint-Véran' 'Mâcon-Vinzelles'\n",
      " 'Mâcon-Villages' \"Montagny 1er Cru 'Saint-Morille'\" 'Macedonia'\n",
      " 'Vermentino di Sardegna' 'Plà i Llevant' 'Constantia' 'Wehlen'\n",
      " 'Long Island' 'Auxey-Duresses' 'Costières-de-Nîmes' 'Monferrato'\n",
      " 'Slopes of Enos' 'Mantinia' 'Ticino' 'Maule Valley'\n",
      " \"Alsace Grand Cru 'Sommerberg'\" 'Valencia' 'Puligny-Montrachet'\n",
      " 'South Eastern Australia' 'Württemberg' \"Alsace Grand Cru 'Kitterle'\"\n",
      " 'Rioja Alta' 'Breede River Valley' 'Central Coast' 'Thrace' 'Orvieto'\n",
      " 'Val di Neto' 'Calabria' 'Russian River Valley' 'Kakheti' 'Thermenregion'\n",
      " \"Chassagne-Montrachet 1er Cru 'Cailleret'\" 'Lazio' 'Spoleto' 'Salta'\n",
      " 'Barossa Valley' 'Zürich' \"Chablis Grand Cru 'Preuses'\" 'Arroyo Seco'\n",
      " 'Morava' \"Chablis 1er Cru 'Vau Ligneau'\" 'Alentejo' 'Galicia'\n",
      " 'Benaco Bresciano' 'Goriška Brda' 'Achaia' 'Utiel-Requena'\n",
      " 'Sierras de Málaga' 'Uco Valley' 'Vins des Allobroges' 'Monção e Melgaço'\n",
      " 'Hemel-en-Aarde Valley' 'Valle del Tirso' 'Chablis Premier Cru'\n",
      " 'Saint-Romain' 'Rio Grande do Sul' 'Lanzarote' 'Lujan de Cuyo'\n",
      " 'Chablis Grand Cru' 'Zeltingen' 'Piemonte' 'Península de Setúbal'\n",
      " \"Santenay 1er Cru 'Les Gravières'\" 'Bolgheri' 'Franschhoek'\n",
      " 'Contessa Entellina' 'Tarnave' 'Darling' 'Savoie' 'Nuragus di Cagliari'\n",
      " 'Valdeorras' 'Neusiedlersee-Hügelland' 'Yarra Valley'\n",
      " 'Citrusdal Mountain' \"Beaune 1er Cru 'Le Clos des Mouches'\" 'Vouvray'\n",
      " 'Bianchello del Metauro' 'Cape Agulhas' 'Rüdesheim' 'Sachsen' 'Falerio'\n",
      " 'Anjou' \"Vino d'Italia\" 'Entre-deux-Mers' 'Bairrada' 'Adelaide Hills'\n",
      " 'Sonoma Coast' 'Savennières' 'San Gimignano' 'Monterey County' 'Weinland'\n",
      " 'Algarve' 'Montagny Premier Cru' 'Saint-Joseph' 'Cariñena' 'Val de Loire'\n",
      " 'Slovakia' 'Dundee Hills' 'Nelson' 'Margaret River' 'Calchaqui Valley'\n",
      " 'Sciacca' 'Emilia-Romagna' 'Montagu' 'Sannio' 'Murray Darling'\n",
      " 'Conca de Barberà' 'Venezia' 'Corbières' 'Vipava'\n",
      " \"Alsace Grand Cru 'Kastelberg'\" 'Franciacorta' 'Würzburg' 'Peloponnesos'\n",
      " 'Kanzem' 'Südoststeiermark' \"Chablis 1er Cru 'Montmains'\"\n",
      " \"Blagny 1er Cru 'La Pièce sous le Bois'\" 'Paso Robles' 'Leyda Valley'\n",
      " 'Livermore Valley' 'Rhone Valley' 'Cassis' 'Coteaux du Pont du Gard'\n",
      " 'Rosso Veronese' 'Terra Alta' \"Hawke's Bay\" 'Collines Rhodaniennes'\n",
      " 'Santa Lucia Highlands' 'Valdepeñas' 'Uclés' 'Napa Valley'\n",
      " 'Crozes-Hermitage' 'Valli di Porto Pino' 'Mâcon-Milly-Lamartine'\n",
      " 'Montsant' 'Yvorne' 'Sonoma County' 'Costers del Segre' 'Curico Valley'\n",
      " 'Recas' 'Tumbarumba' 'Molise' 'Lodi' 'Sardegna' 'Aigle' 'Catalunya'\n",
      " 'Ribeiro' 'd Minis' 'Rubicone' 'Saint-Aubin' 'Offida'\n",
      " 'Savennières-Roche-aux-Moines' 'Quincy' \"Chablis 1er Cru 'Vau de Vey'\"\n",
      " 'Beaujolais' 'La Clape' 'Cádiz' 'Falerio Pecorino'\n",
      " \"Chablis 1er Cru 'Côte de Lechet'\" 'North Island' 'Contea di Sclafani'\n",
      " 'Mâcon-Bussières' 'Neusiedlersee' 'Colline Teatine' 'Mâcon-Uchizy'\n",
      " 'Mâcon-La Roche-Vineuse' 'San Antonio Valley' 'Saint-Péray' 'Leiwen'\n",
      " 'Rutherford' 'Colline Pescaresi' 'Alella' 'Aconcagua Valley' 'Wawern'\n",
      " 'Falanghina del Sannio' \"Chablis 1er Cru 'Montee de Tonnerre'\"\n",
      " 'Calatayud' 'Santorini' 'Mâcon-Lugny' 'Groenekloof'\n",
      " 'Ancient Lakes of Columbia Valley' 'Vino de España' 'Bernkastel'\n",
      " 'Clairette de Languedoc' 'Columbia Valley' 'Niagara-on-the-Lake'\n",
      " 'Monterrei' 'Rosazzo' 'Alicante' 'Bizkaiko Txakolina' 'Napa County'\n",
      " 'Sonoma Valley' 'Tokaj' 'Verdicchio dei Castelli di Jesi Riserva'\n",
      " 'Falanghina del Beneventano' 'Bekaa Valley' 'Orvieto Classico'\n",
      " 'Friuli Aquileia' 'Blenheim' 'Frascati' 'Cape South Coast'\n",
      " 'Colchagua Valley' 'South Eastern' 'Savennières-Coulée-de-Serrant'\n",
      " 'Otazu' 'Valdadige' 'Lombardia' 'Jurançon' 'Castel del Monte'\n",
      " 'Coteaux Varois en Provence' 'Martinborough' 'Menfi' 'San Juan' 'Alghero'\n",
      " 'Maldonado' 'Valdejalón' 'Campanha' 'Ardèche' 'Encruzilhada do Sul'\n",
      " 'Santa Barbara County']\n",
      "\n",
      "Las frecuencias de los valores únicos de la columna: Region\n",
      "Pfalz                     214\n",
      "Mosel                     197\n",
      "Rheinhessen               134\n",
      "Südtirol - Alto Adige     133\n",
      "Rheingau                  107\n",
      "                         ... \n",
      "Yarra Valley                1\n",
      "Bianchello del Metauro      1\n",
      "Cape Agulhas                1\n",
      "Falerio                     1\n",
      "Santa Barbara County        1\n",
      "Name: count, Length: 457, dtype: int64 \n",
      "------------------------------------------------------------------------------------------------\n",
      "Los valores únicos de Winery son: ['Famiglia Castellani' \"Conte d'Attimis Maniago\" 'Weinbau Uwe Schiefer'\n",
      " ... 'Oyster Bay' 'Casal Garcia' 'Hans Greyl']\n",
      "\n",
      "Las frecuencias de los valores únicos de la columna: Winery\n",
      "Markus Molitor             61\n",
      "Von Winning                34\n",
      "Wittmann                   29\n",
      "Emrich-Schönleber          23\n",
      "Joseph Drouhin             23\n",
      "                           ..\n",
      "Botani                      1\n",
      "Château de Vinzelles        1\n",
      "Domaine des Ardoisieres     1\n",
      "Vernaccia Oristano          1\n",
      "Hans Greyl                  1\n",
      "Name: count, Length: 1412, dtype: int64 \n",
      "------------------------------------------------------------------------------------------------\n",
      "Los valores únicos de Rating son: [3.8 4.3 4.2 3.9 3.7 4.1 3.4 3.6 4.  3.5 2.7 3.1 2.9 3.2 4.4 3.  3.3 2.8\n",
      " 4.6 4.9 4.5 4.8 4.7 2.2 2.6]\n",
      "\n",
      "Las frecuencias de los valores únicos de la columna: Rating\n",
      "3.8    638\n",
      "3.9    572\n",
      "3.7    482\n",
      "3.6    411\n",
      "4.0    393\n",
      "4.1    339\n",
      "3.5    246\n",
      "4.2    197\n",
      "3.4    159\n",
      "4.3    100\n",
      "3.3     74\n",
      "3.2     43\n",
      "4.4     41\n",
      "4.5     31\n",
      "3.1     15\n",
      "4.6      7\n",
      "3.0      5\n",
      "2.8      3\n",
      "2.9      2\n",
      "4.9      1\n",
      "2.7      1\n",
      "4.8      1\n",
      "4.7      1\n",
      "2.2      1\n",
      "2.6      1\n",
      "Name: count, dtype: int64 \n",
      "------------------------------------------------------------------------------------------------\n",
      "Los valores únicos de NumberOfRatings son: [   25    26    27    28    29    30    31    32    33    34    35    36\n",
      "    37    38    39    40    41    42    43    44    45    46    47    48\n",
      "    49    50    51    52    53    54    55    56    57    58    59    60\n",
      "    61    62    63    64    65    66    67    68    69    70    71    72\n",
      "    73    74    75    76    77    78    79    80    81    82    83    84\n",
      "    85    86    87    88    89    90    91    92    93    94    95    96\n",
      "    97    98    99   100   101   102   103   104   105   106   107   108\n",
      "   109   110   111   112   113   114   115   116   117   118   119   120\n",
      "   121   122   123   124   125   126   127   128   129   130   131   132\n",
      "   133   134   135   136   137   138   139   140   141   142   143   144\n",
      "   145   146   147   148   149   150   151   152   153   154   155   156\n",
      "   157   158   159   160   161   162   163   164   165   166   167   168\n",
      "   169   170   171   172   173   174   175   176   177   178   179   180\n",
      "   181   182   183   184   185   186   187   188   189   190   191   192\n",
      "   193   194   195   196   197   198   199   200   201   202   203   204\n",
      "   205   206   207   208   209   210   211   212   213   214   215   216\n",
      "   217   218   219   220   221   222   223   224   225   226   227   228\n",
      "   229   230   231   232   233   234   235   236   237   238   239   240\n",
      "   241   242   243   244   245   246   247   248   249   250   251   252\n",
      "   253   254   255   256   257   258   259   260   262   263   264   265\n",
      "   266   267   268   269   271   272   273   274   275   276   277   279\n",
      "   280   281   282   283   284   285   286   287   288   289   290   292\n",
      "   293   294   297   298   300   301   302   303   304   305   306   307\n",
      "   308   309   310   311   312   314   315   317   318   320   321   322\n",
      "   323   324   325   326   327   328   329   331   332   333   336   338\n",
      "   340   341   343   344   345   346   347   348   349   350   351   352\n",
      "   353   355   356   357   359   360   361   362   363   364   366   367\n",
      "   368   369   370   371   372   374   375   376   377   380   381   382\n",
      "   383   384   386   389   390   391   392   393   394   395   397   398\n",
      "   399   400   401   402   403   404   405   406   407   408   411   412\n",
      "   416   419   421   422   423   424   425   428   429   431   433   434\n",
      "   439   440   442   443   444   446   447   449   450   452   455   456\n",
      "   457   458   460   464   465   467   468   469   470   472   473   479\n",
      "   481   482   483   486   489   490   491   493   496   497   499   500\n",
      "   502   503   505   506   507   508   509   510   511   512   515   517\n",
      "   518   520   523   530   531   532   534   535   536   538   539   540\n",
      "   541   542   543   544   549   550   551   552   554   556   557   558\n",
      "   559   560   563   564   565   567   569   570   571   575   578   579\n",
      "   580   583   585   586   587   590   592   596   597   600   601   602\n",
      "   605   606   612   615   617   619   621   625   627   628   630   631\n",
      "   637   641   642   643   651   654   661   667   672   676   678   679\n",
      "   680   684   691   704   705   707   708   710   712   714   716   719\n",
      "   724   727   728   731   737   741   748   756   757   760   761   762\n",
      "   764   768   772   776   780   792   795   796   798   806   807   817\n",
      "   827   830   837   838   844   848   859   861   868   873   878   879\n",
      "   894   898   901   904   905   906   923   930   949   950   953   961\n",
      "   976   979   991  1001  1006  1011  1023  1036  1059  1060  1066  1075\n",
      "  1082  1085  1087  1100  1116  1121  1130  1160  1179  1183  1185  1190\n",
      "  1204  1216  1219  1248  1254  1267  1286  1332  1358  1375  1423  1424\n",
      "  1462  1466  1476  1481  1493  1525  1554  1590  1637  1646  1675  1721\n",
      "  1783  1791  1823  1846  1903  2021  2034  2068  2100  2151  2401  2487\n",
      "  2504  2554  3054  3374  3479  4064  4082  4155  4423  4609  5105  5817\n",
      " 62980]\n",
      "\n",
      "Las frecuencias de los valores únicos de la columna: NumberOfRatings\n",
      "29       67\n",
      "26       60\n",
      "27       59\n",
      "40       59\n",
      "30       58\n",
      "         ..\n",
      "558       1\n",
      "559       1\n",
      "560       1\n",
      "563       1\n",
      "62980     1\n",
      "Name: count, Length: 625, dtype: int64 \n",
      "------------------------------------------------------------------------------------------------\n",
      "Los valores únicos de Price son: [ 5.65 44.9  33.25 ... 22.39  5.05  4.35]\n",
      "\n",
      "Las frecuencias de los valores únicos de la columna: Price\n",
      "9.90     43\n",
      "8.90     38\n",
      "9.50     31\n",
      "15.50    31\n",
      "18.90    30\n",
      "         ..\n",
      "12.67     1\n",
      "43.16     1\n",
      "4.00      1\n",
      "44.91     1\n",
      "4.35      1\n",
      "Name: count, Length: 1325, dtype: int64 \n",
      "------------------------------------------------------------------------------------------------\n",
      "Los valores únicos de Year son: ['2017' '2010' '2018' '2019' '2016' '2015' '2014' '2013' '2012' '2007'\n",
      " '2011' '1999' '2006' '2003' '2004' '1998' '2020' '2005' '1993' 'N.V.'\n",
      " '2009' '2008']\n",
      "\n",
      "Las frecuencias de los valores únicos de la columna: Year\n",
      "2018    1440\n",
      "2017     787\n",
      "2019     588\n",
      "2016     484\n",
      "2015     250\n",
      "2014      85\n",
      "2013      42\n",
      "2012      26\n",
      "2011      24\n",
      "N.V.       5\n",
      "2010       5\n",
      "2006       5\n",
      "2005       4\n",
      "2008       3\n",
      "2003       3\n",
      "2007       3\n",
      "2004       2\n",
      "2020       2\n",
      "2009       2\n",
      "1999       2\n",
      "1998       1\n",
      "1993       1\n",
      "Name: count, dtype: int64 \n",
      "------------------------------------------------------------------------------------------------\n"
     ]
    }
   ],
   "source": [
    "# creamos una variable con los nombres de las columnas del DataFrame de las variables categóricas\n",
    "columnas_categoricas = [\"Country\", \"Region\", \"Winery\", \"Rating\", \"NumberOfRatings\", \"Price\", \"Year\"]\n",
    "\n",
    "print(f\"Las columnas del DataFrame de variables categóricas son {columnas_categoricas}\")\n",
    "print(\"--------------------------------------------------------------------------------\")\n",
    "# empezamos a iterar por cada una de las columnas para sacar sus valores únicos y sus frecuencias\n",
    "for columna in columnas_categoricas:\n",
    "    print(f\"Los valores únicos de {columna} son: {data_white[columna].unique()}\\n\")\n",
    "    print(f\"Las frecuencias de los valores únicos de la columna: {data_white[columna].value_counts()} \")\n",
    "    print(\"------------------------------------------------------------------------------------------------\")"
   ]
  }
 ],
 "metadata": {
  "kernelspec": {
   "display_name": "base",
   "language": "python",
   "name": "python3"
  },
  "language_info": {
   "codemirror_mode": {
    "name": "ipython",
    "version": 3
   },
   "file_extension": ".py",
   "mimetype": "text/x-python",
   "name": "python",
   "nbconvert_exporter": "python",
   "pygments_lexer": "ipython3",
   "version": "3.11.9"
  }
 },
 "nbformat": 4,
 "nbformat_minor": 2
}
